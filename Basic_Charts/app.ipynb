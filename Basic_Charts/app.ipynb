{
 "cells": [
  {
   "cell_type": "code",
   "execution_count": 1,
   "id": "bdcc220b-a508-4ee1-996b-1ae83adb6c2d",
   "metadata": {},
   "outputs": [],
   "source": [
    "import plotly.express as px\n",
    "from dash import html, dcc, Dash\n",
    "from dash.dependencies import Output, Input\n",
    "import pandas as pd"
   ]
  },
  {
   "cell_type": "code",
   "execution_count": 4,
   "id": "e8ce7563-d731-42d2-8ec0-bdba543acebc",
   "metadata": {},
   "outputs": [],
   "source": [
    "# Initialize a Dash application\n",
    "app = Dash(__name__)\n",
    "\n",
    "# Load data from the mutual_funds.xlsx file\n",
    "df = pd.read_excel('mutual_funds.xlsx')"
   ]
  },
  {
   "cell_type": "code",
   "execution_count": 5,
   "id": "0f050c25-b27a-43f4-9456-36a671a8402f",
   "metadata": {},
   "outputs": [],
   "source": [
    "# Define the layout of the Dash app\n",
    "app.layout = html.Div(children=[\n",
    "    html.H1(\"Mutual Fund Analysis for Aditya Birla Sun Life Mutual Fund\", style={'textAlign': 'center'}),\n",
    "    # Create a Graph component with the id \"pie-chart\"\n",
    "    dcc.Graph(id=\"pie-chart\"),\n",
    "    # Create an Interval component to trigger updates at a specified interval\n",
    "    dcc.Interval(\n",
    "        id='interval-component',\n",
    "        interval=60000,  # in milliseconds (60 seconds in this case)\n",
    "        n_intervals=0    # Initial number of intervals\n",
    "    )\n",
    "])\n"
   ]
  },
  {
   "cell_type": "code",
   "execution_count": 6,
   "id": "3cfa207d-910e-4e0f-ae1e-b047a0569920",
   "metadata": {},
   "outputs": [],
   "source": [
    "# Define a callback to update the \"pie-chart\" figure based on interval updates\n",
    "@app.callback(\n",
    "    Output(\"pie-chart\", \"figure\"),\n",
    "    [Input(\"interval-component\", \"n_intervals\")]\n",
    ")\n",
    "def display(_):\n",
    "    # Filter data based on the selected investment option\n",
    "    selected_fund = 'Aditya Birla Sun Life Mutual Fund'  # Set the default or desired fund\n",
    "    filtered_df = df[df['FUNDNAME'] == selected_fund]   \n",
    "    # Create a pie chart using Plotly Express\n",
    "    high_net_worth_investors_chart = px.pie(filtered_df, names='FUNDTYPE', title=f'{selected_fund} - High-Net-Worth Investors',\n",
    "                                            labels={'NAV': 'Net asset Value', 'FUNDTYPE': 'Fund Type',\n",
    "                                                    'INVESTMENTAMOUNT': 'Investment Amount'},\n",
    "                                            hover_data=['NAV', 'INVESTMENTAMOUNT'])\n",
    "    # Return the pie chart as the updated figure\n",
    "    return high_net_worth_investors_chart\n"
   ]
  },
  {
   "cell_type": "code",
   "execution_count": 8,
   "id": "79b8fb19-c2c0-4106-acfb-bd9992d18487",
   "metadata": {},
   "outputs": [
    {
     "data": {
      "text/html": [
       "\n",
       "        <iframe\n",
       "            width=\"100%\"\n",
       "            height=\"650\"\n",
       "            src=\"http://127.0.0.1:8050/\"\n",
       "            frameborder=\"0\"\n",
       "            allowfullscreen\n",
       "            \n",
       "        ></iframe>\n",
       "        "
      ],
      "text/plain": [
       "<IPython.lib.display.IFrame at 0x26cf54df1d0>"
      ]
     },
     "metadata": {},
     "output_type": "display_data"
    }
   ],
   "source": [
    "# Run the Dash app in debug mode if executed as the main script\n",
    "if __name__ == '__main__':\n",
    "    app.run_server(debug=True)"
   ]
  },
  {
   "cell_type": "code",
   "execution_count": null,
   "id": "93eb53fc-152b-4341-aa56-cdd8e9856554",
   "metadata": {},
   "outputs": [],
   "source": []
  }
 ],
 "metadata": {
  "kernelspec": {
   "display_name": "Python 3 (ipykernel)",
   "language": "python",
   "name": "python3"
  },
  "language_info": {
   "codemirror_mode": {
    "name": "ipython",
    "version": 3
   },
   "file_extension": ".py",
   "mimetype": "text/x-python",
   "name": "python",
   "nbconvert_exporter": "python",
   "pygments_lexer": "ipython3",
   "version": "3.11.4"
  }
 },
 "nbformat": 4,
 "nbformat_minor": 5
}
